{
 "cells": [
  {
   "cell_type": "code",
   "execution_count": 1,
   "id": "e2a32b4c",
   "metadata": {},
   "outputs": [],
   "source": [
    "'''Convert color image to gray scale'''\n",
    "\n",
    "import cv2\n",
    "src='luffy.png'\n",
    "input_image=cv2.imread(src)\n",
    "cv2.imshow('Original Image', input_image)\n",
    "cv2.waitKey(0)\n",
    "cv2.destroyAllWindows()\n",
    "if input_image is None:\n",
    "    print('Could not open image: ', input_image)\n",
    "    exit(0)\n",
    "    \n",
    "\n",
    "#Grayscale version of the input:\n",
    "gray = cv2.cvtColor(input_image, cv2.COLOR_BGR2GRAY)\n",
    "\n",
    "#Display grayscale version\n",
    "cv2.imshow('Gray Scale Image', gray)\n",
    "\n",
    "cv2.waitKey(0)\n",
    "cv2.destroyAllWindows()"
   ]
  },
  {
   "cell_type": "code",
   "execution_count": 5,
   "id": "d77a3b62",
   "metadata": {},
   "outputs": [],
   "source": [
    "'''Seperating BGR and Combining BGR Channels'''\n",
    "\n",
    "import cv2\n",
    "import numpy as np\n",
    "src='luffy.png'\n",
    "input_image = cv2.imread(src)\n",
    "if input_image is None:\n",
    "    print('Could not load image: ', input_image)\n",
    "    exit(0)\n",
    "    \n",
    "#Splitting image to RGB channels:\n",
    "blue,green, red = cv2.split(input_image)\n",
    "cv2.imshow('Blue - Gray Scale', blue)\n",
    "cv2.waitKey(0)\n",
    "cv2.destroyAllWindows()\n",
    "cv2.imshow('Green- Gray Scale', green)\n",
    "cv2.waitKey(0)\n",
    "cv2.destroyAllWindows()\n",
    "cv2.imshow('Red - Gray Scale', red)\n",
    "cv2.waitKey(0)\n",
    "cv2.destroyAllWindows()"
   ]
  },
  {
   "cell_type": "code",
   "execution_count": 9,
   "id": "0f7efaaf",
   "metadata": {},
   "outputs": [],
   "source": [
    "# We create a dummy 3D array\n",
    "\n",
    "blue_channel = np.zeros(input_image.shape, input_image.dtype)\n",
    "green_channel = np.zeros(input_image.shape, input_image.dtype)\n",
    "red_channel = np.zeros(input_image.shape, input_image.dtype)\n",
    "\n",
    "#We match each color channel to a 3D dimension:\n",
    "    #Blue Rendering: [blue,0,0]\n",
    "    #Green Rendering:[0,green,0]\n",
    "    #Red Rendering:[0,0,red]\n",
    "    \n",
    "cv2.mixChannels([blue,green,red], [blue_channel], [0,0])\n",
    "cv2.mixChannels([blue, green, red], [green_channel],[1,1])\n",
    "cv2.mixChannels([blue, green, red], [red_channel], [2,2])\n",
    "\n",
    "#Display the three obtained image\n",
    "cv2.imshow('Blue Channel', blue_channel)\n",
    "cv2.waitKey(0)\n",
    "cv2.destroyAllWindows()\n",
    "cv2.imshow('Green Channel', green_channel)\n",
    "cv2.waitKey(0)\n",
    "cv2.destroyAllWindows()\n",
    "cv2.imshow('Red Channel', red_channel)\n",
    "cv2.waitKey(0)\n",
    "cv2.destroyAllWindows()"
   ]
  },
  {
   "cell_type": "code",
   "execution_count": null,
   "id": "fcfcb060",
   "metadata": {},
   "outputs": [],
   "source": [
    "''' Bluring an Image'''\n",
    "\n",
    "import cv2\n",
    "img=cv2.imread('luffy.png')\n",
    "cv2.imshow('original image', img)\n",
    "cv2.waitKey(0)\n",
    "cv2.destroyAllWindows()\n",
    "blur_image=cv2.medianBlur"
   ]
  }
 ],
 "metadata": {
  "kernelspec": {
   "display_name": "Python 3 (ipykernel)",
   "language": "python",
   "name": "python3"
  },
  "language_info": {
   "codemirror_mode": {
    "name": "ipython",
    "version": 3
   },
   "file_extension": ".py",
   "mimetype": "text/x-python",
   "name": "python",
   "nbconvert_exporter": "python",
   "pygments_lexer": "ipython3",
   "version": "3.11.4"
  }
 },
 "nbformat": 4,
 "nbformat_minor": 5
}
